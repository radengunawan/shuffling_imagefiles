{
 "cells": [
  {
   "cell_type": "code",
   "execution_count": 2,
   "id": "9f452d4e",
   "metadata": {},
   "outputs": [
    {
     "name": "stdout",
     "output_type": "stream",
     "text": [
      "95\n"
     ]
    }
   ],
   "source": [
    "import glob\n",
    "import numpy as np\n",
    "import matplotlib.pyplot as plt\n",
    "import cv2\n",
    "from tqdm import tqdm\n",
    "import random\n",
    "\n",
    "files = glob.glob('./*.jpg')\n",
    "\n",
    "\n",
    "print(len(files))"
   ]
  },
  {
   "cell_type": "code",
   "execution_count": 20,
   "id": "915ed24c",
   "metadata": {},
   "outputs": [
    {
     "data": {
      "text/plain": [
       "'.\\\\dtn_ (95).jpg'"
      ]
     },
     "execution_count": 20,
     "metadata": {},
     "output_type": "execute_result"
    }
   ],
   "source": [
    "files[94]"
   ]
  },
  {
   "cell_type": "code",
   "execution_count": 6,
   "id": "05c33f7f",
   "metadata": {},
   "outputs": [
    {
     "data": {
      "text/plain": [
       "'\\\\dtn_ (95)'"
      ]
     },
     "execution_count": 6,
     "metadata": {},
     "output_type": "execute_result"
    }
   ],
   "source": [
    "files[94].split('.')[-2]"
   ]
  },
  {
   "cell_type": "code",
   "execution_count": 7,
   "id": "1adb4464",
   "metadata": {},
   "outputs": [
    {
     "data": {
      "text/plain": [
       "'D:\\\\Proj_OCR\\\\data_newstrategy'"
      ]
     },
     "execution_count": 7,
     "metadata": {},
     "output_type": "execute_result"
    }
   ],
   "source": [
    "pwd"
   ]
  },
  {
   "cell_type": "code",
   "execution_count": 13,
   "id": "0f25e56b",
   "metadata": {},
   "outputs": [],
   "source": [
    "class Image:\n",
    "    def __init__(self, image, oriname, newname = None):\n",
    "        self.image = image\n",
    "        self.oriname = oriname\n",
    "        self.newname = newname"
   ]
  },
  {
   "cell_type": "code",
   "execution_count": 21,
   "id": "432d8911",
   "metadata": {},
   "outputs": [
    {
     "name": "stdout",
     "output_type": "stream",
     "text": [
      "..Loading Files....\n"
     ]
    },
    {
     "name": "stderr",
     "output_type": "stream",
     "text": [
      "100%|██████████████████████████████████████████████████████████████████████████████████| 95/95 [00:12<00:00,  7.90it/s]\n"
     ]
    },
    {
     "name": "stdout",
     "output_type": "stream",
     "text": [
      "..Shuffling....\n",
      "..Assign new name....\n"
     ]
    },
    {
     "name": "stderr",
     "output_type": "stream",
     "text": [
      "100%|██████████████████████████████████████████████████████████████████████████████████████████| 95/95 [00:00<?, ?it/s]\n"
     ]
    },
    {
     "name": "stdout",
     "output_type": "stream",
     "text": [
      "Outputting...\n"
     ]
    },
    {
     "name": "stderr",
     "output_type": "stream",
     "text": [
      "100%|██████████████████████████████████████████████████████████████████████████████████| 95/95 [00:23<00:00,  4.08it/s]"
     ]
    },
    {
     "name": "stdout",
     "output_type": "stream",
     "text": [
      "Finsihed\n"
     ]
    },
    {
     "name": "stderr",
     "output_type": "stream",
     "text": [
      "\n"
     ]
    }
   ],
   "source": [
    "import glob\n",
    "import numpy as np\n",
    "import matplotlib.pyplot as plt\n",
    "import cv2\n",
    "from tqdm import tqdm\n",
    "import random\n",
    "\n",
    "files = glob.glob('./*.jpg')\n",
    "\n",
    "array_img = [] \n",
    "print('..Loading Files....')\n",
    "for file in tqdm(files):\n",
    "    \n",
    "    img = cv2.imread(file)\n",
    "    imgname = file.split('.')[-2].split('\\\\')[-1]\n",
    "    \n",
    "    array_img.append(Image(img, imgname))\n",
    "    \n",
    "print('..Shuffling....')\n",
    "random.shuffle(array_img)\n",
    "\n",
    "print('..Assign new name....')\n",
    "for i in tqdm(range(len(array_img))):\n",
    "    array_img[i].newname = 'std'+str(i)\n",
    "    \n",
    "output_folder = './Shuffled/'\n",
    "\n",
    "print('Outputting...')\n",
    "for item in tqdm(array_img):\n",
    "    name = './Shuffled/'+item.newname+'_from_'+item.oriname+'.jpg'\n",
    "    cv2.imwrite(name,item.image)\n",
    "    \n",
    "print('Finsihed')\n",
    "\n"
   ]
  },
  {
   "cell_type": "code",
   "execution_count": 15,
   "id": "ba31f00c",
   "metadata": {},
   "outputs": [
    {
     "data": {
      "text/plain": [
       "(3120, 4160, 3)"
      ]
     },
     "execution_count": 15,
     "metadata": {},
     "output_type": "execute_result"
    }
   ],
   "source": [
    "array_img[0].image.shape"
   ]
  },
  {
   "cell_type": "code",
   "execution_count": 19,
   "id": "66b9d1b5",
   "metadata": {},
   "outputs": [
    {
     "data": {
      "text/plain": [
       "'dtn_ (18)'"
      ]
     },
     "execution_count": 19,
     "metadata": {},
     "output_type": "execute_result"
    }
   ],
   "source": [
    "cb = array_img[0].oriname.split('\\\\')[-1]\n",
    "cb"
   ]
  },
  {
   "cell_type": "code",
   "execution_count": 18,
   "id": "8abf2f6a",
   "metadata": {},
   "outputs": [
    {
     "data": {
      "text/plain": [
       "'std0'"
      ]
     },
     "execution_count": 18,
     "metadata": {},
     "output_type": "execute_result"
    }
   ],
   "source": [
    "array_img[0].newname"
   ]
  },
  {
   "cell_type": "code",
   "execution_count": null,
   "id": "3a36c5e4",
   "metadata": {},
   "outputs": [],
   "source": []
  }
 ],
 "metadata": {
  "kernelspec": {
   "display_name": "Python 3 (ipykernel)",
   "language": "python",
   "name": "python3"
  },
  "language_info": {
   "codemirror_mode": {
    "name": "ipython",
    "version": 3
   },
   "file_extension": ".py",
   "mimetype": "text/x-python",
   "name": "python",
   "nbconvert_exporter": "python",
   "pygments_lexer": "ipython3",
   "version": "3.9.12"
  }
 },
 "nbformat": 4,
 "nbformat_minor": 5
}
